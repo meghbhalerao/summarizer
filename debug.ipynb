{
 "cells": [
  {
   "cell_type": "code",
   "execution_count": 1,
   "metadata": {},
   "outputs": [],
   "source": [
    "from PIL import Image\n"
   ]
  },
  {
   "cell_type": "code",
   "execution_count": 12,
   "metadata": {},
   "outputs": [
    {
     "data": {
      "text/plain": [
       "(1401, 960)"
      ]
     },
     "execution_count": 12,
     "metadata": {},
     "output_type": "execute_result"
    }
   ],
   "source": [
    "x = Image.open('/homes/megh98/projects/misc/summarizer/downloaded_data/airbnb_data/images/house-exterior_seattle_173_2.jpg')\n",
    "x.convert('RGB').size"
   ]
  }
 ],
 "metadata": {
  "interpreter": {
   "hash": "b1cebcb031d6ddb139adc5ac765cd5eb4d4acfcee2722b7c19936cdb008b3b19"
  },
  "kernelspec": {
   "display_name": "Python 3.9.15 ('summarizer')",
   "language": "python",
   "name": "python3"
  },
  "language_info": {
   "codemirror_mode": {
    "name": "ipython",
    "version": 3
   },
   "file_extension": ".py",
   "mimetype": "text/x-python",
   "name": "python",
   "nbconvert_exporter": "python",
   "pygments_lexer": "ipython3",
   "version": "3.9.15"
  },
  "orig_nbformat": 4
 },
 "nbformat": 4,
 "nbformat_minor": 2
}
